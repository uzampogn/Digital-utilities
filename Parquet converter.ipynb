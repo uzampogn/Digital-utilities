{
 "cells": [
  {
   "cell_type": "code",
   "execution_count": 15,
   "id": "f5418116",
   "metadata": {},
   "outputs": [],
   "source": [
    "import pandas as pd\n",
    "from os import listdir\n",
    "from os.path import isfile, join"
   ]
  },
  {
   "cell_type": "code",
   "execution_count": 16,
   "id": "d2b78f6d",
   "metadata": {},
   "outputs": [],
   "source": [
    "files = [f for f in listdir('.') if '.txt' in f]"
   ]
  },
  {
   "cell_type": "code",
   "execution_count": 17,
   "id": "614463b3",
   "metadata": {},
   "outputs": [
    {
     "data": {
      "text/plain": [
       "['Segment_956553902_t1_20220820.txt',\n",
       " 'Segment_956553902_t1_20220830.txt',\n",
       " 'Segment_956553902_t1_20220903.txt',\n",
       " 'Segment_956554002_t2_20220820.txt',\n",
       " 'Segment_956554002_t2_20220830.txt',\n",
       " 'Segment_956554002_t2_20220903.txt',\n",
       " 'Segment_956554102_control_20220820.txt',\n",
       " 'Segment_956554102_control_20220830.txt',\n",
       " 'Segment_956554102_control_20220903.txt']"
      ]
     },
     "execution_count": 17,
     "metadata": {},
     "output_type": "execute_result"
    }
   ],
   "source": [
    "files"
   ]
  },
  {
   "cell_type": "code",
   "execution_count": 19,
   "id": "05bcc857",
   "metadata": {},
   "outputs": [],
   "source": [
    "for f in files:\n",
    "    segment = f.split('.')[0]\n",
    "    treatment = [m for m in ['control','t1','t2'] if m in segment]\n",
    "    date = [m for m in ['20220820','20220830','20220903'] if m in segment]\n",
    "    tmp = pd.read_csv(f, sep=\" \",header=None)\n",
    "    tmp.columns = ['customer_id']\n",
    "    tmp['treatment'] = treatment[0]\n",
    "    tmp['date'] = date[0]\n",
    "    tmp.to_parquet(segment, compression='snappy')"
   ]
  }
 ],
 "metadata": {
  "kernelspec": {
   "display_name": "Python 3 (ipykernel)",
   "language": "python",
   "name": "python3"
  },
  "language_info": {
   "codemirror_mode": {
    "name": "ipython",
    "version": 3
   },
   "file_extension": ".py",
   "mimetype": "text/x-python",
   "name": "python",
   "nbconvert_exporter": "python",
   "pygments_lexer": "ipython3",
   "version": "3.10.4"
  }
 },
 "nbformat": 4,
 "nbformat_minor": 5
}
