{
 "cells": [
  {
   "cell_type": "code",
   "execution_count": 15,
   "id": "f5418116",
   "metadata": {},
   "outputs": [],
   "source": [
    "import pandas as pd\n",
    "from os import listdir\n",
    "from os.path import isfile, join"
   ]
  },
  {
   "cell_type": "code",
   "execution_count": 16,
   "id": "d2b78f6d",
   "metadata": {},
   "outputs": [],
   "source": [
    "files = [f for f in listdir('.') if '.txt' in f]"
   ]
  },
  {
   "cell_type": "code",
   "execution_count": 17,
   "id": "614463b3",
   "metadata": {},
   "outputs": [
    {
     "data": {
      "text/plain": [
       "['Segment_956553902_t1_20220820.txt',\n",
       " 'Segment_956553902_t1_20220830.txt',\n",
       " 'Segment_956553902_t1_20220903.txt',\n",
       " 'Segment_956554002_t2_20220820.txt',\n",
       " 'Segment_956554002_t2_20220830.txt',\n",
       " 'Segment_956554002_t2_20220903.txt',\n",
       " 'Segment_956554102_control_20220820.txt',\n",
       " 'Segment_956554102_control_20220830.txt',\n",
       " 'Segment_956554102_control_20220903.txt']"
      ]
     },
     "execution_count": 17,
     "metadata": {},
     "output_type": "execute_result"
    }
   ],
   "source": [
    "files"
   ]
  },
  {
   "cell_type": "code",
   "execution_count": 19,
   "id": "05bcc857",
   "metadata": {},
   "outputs": [],
   "source": [
    "for f in files:\n",
    "    segment = f.split('.')[0]\n",
    "    treatment = [m for m in ['control','t1','t2'] if m in segment]\n",
    "    date = [m for m in ['20220820','20220830','20220903'] if m in segment]\n",
    "    tmp = pd.read_csv(f, sep=\" \",header=None)\n",
    "    tmp.columns = ['customer_id']\n",
    "    tmp['treatment'] = treatment[0]\n",
    "    tmp['date'] = date[0]\n",
    "    tmp.to_parquet(segment, compression='snappy')"
   ]
  },
  {
   "cell_type": "code",
   "execution_count": 20,
   "id": "ace4d05b",
   "metadata": {},
   "outputs": [
    {
     "data": {
      "text/html": [
       "<div>\n",
       "<style scoped>\n",
       "    .dataframe tbody tr th:only-of-type {\n",
       "        vertical-align: middle;\n",
       "    }\n",
       "\n",
       "    .dataframe tbody tr th {\n",
       "        vertical-align: top;\n",
       "    }\n",
       "\n",
       "    .dataframe thead th {\n",
       "        text-align: right;\n",
       "    }\n",
       "</style>\n",
       "<table border=\"1\" class=\"dataframe\">\n",
       "  <thead>\n",
       "    <tr style=\"text-align: right;\">\n",
       "      <th></th>\n",
       "      <th>customer_id</th>\n",
       "      <th>treatment</th>\n",
       "      <th>date</th>\n",
       "    </tr>\n",
       "  </thead>\n",
       "  <tbody>\n",
       "    <tr>\n",
       "      <th>0</th>\n",
       "      <td>10000000335</td>\n",
       "      <td>control</td>\n",
       "      <td>20220903</td>\n",
       "    </tr>\n",
       "    <tr>\n",
       "      <th>1</th>\n",
       "      <td>1000000063</td>\n",
       "      <td>control</td>\n",
       "      <td>20220903</td>\n",
       "    </tr>\n",
       "    <tr>\n",
       "      <th>2</th>\n",
       "      <td>1000000072</td>\n",
       "      <td>control</td>\n",
       "      <td>20220903</td>\n",
       "    </tr>\n",
       "    <tr>\n",
       "      <th>3</th>\n",
       "      <td>10000002812</td>\n",
       "      <td>control</td>\n",
       "      <td>20220903</td>\n",
       "    </tr>\n",
       "    <tr>\n",
       "      <th>4</th>\n",
       "      <td>1000000362</td>\n",
       "      <td>control</td>\n",
       "      <td>20220903</td>\n",
       "    </tr>\n",
       "  </tbody>\n",
       "</table>\n",
       "</div>"
      ],
      "text/plain": [
       "   customer_id treatment      date\n",
       "0  10000000335   control  20220903\n",
       "1   1000000063   control  20220903\n",
       "2   1000000072   control  20220903\n",
       "3  10000002812   control  20220903\n",
       "4   1000000362   control  20220903"
      ]
     },
     "execution_count": 20,
     "metadata": {},
     "output_type": "execute_result"
    }
   ],
   "source": [
    "tmp.head()"
   ]
  },
  {
   "cell_type": "code",
   "execution_count": null,
   "id": "abcfd51a",
   "metadata": {},
   "outputs": [],
   "source": []
  }
 ],
 "metadata": {
  "kernelspec": {
   "display_name": "Python 3 (ipykernel)",
   "language": "python",
   "name": "python3"
  },
  "language_info": {
   "codemirror_mode": {
    "name": "ipython",
    "version": 3
   },
   "file_extension": ".py",
   "mimetype": "text/x-python",
   "name": "python",
   "nbconvert_exporter": "python",
   "pygments_lexer": "ipython3",
   "version": "3.10.4"
  }
 },
 "nbformat": 4,
 "nbformat_minor": 5
}
